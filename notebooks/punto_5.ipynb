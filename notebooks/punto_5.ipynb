{
 "cells": [
  {
   "cell_type": "markdown",
   "id": "c45e2e4b",
   "metadata": {},
   "source": [
    "# Punto 5"
   ]
  },
  {
   "cell_type": "markdown",
   "id": "cf90bc89",
   "metadata": {},
   "source": [
    "## Consigna"
   ]
  },
  {
   "cell_type": "markdown",
   "id": "42ca8213",
   "metadata": {},
   "source": [
    "Demostrar que\n",
    "$$\n",
    "diag(A \\cdot B) = \\sum_{cols} A \\odot B^T = np.sum(A \\odot B^T, axis=1)\n",
    "$$ \n",
    "\n",
    "es decir, que se puede \"esquivar\" la matriz de $n \\times n$ usando matrices de\n",
    "$n \\times p$. También se puede usar, de forma equivalente,\n",
    "$$\n",
    "np.sum(A^T \\odot B, axis=0).T\n",
    "$$\n",
    "queda a preferencia del alumno cuál usar."
   ]
  },
  {
   "cell_type": "markdown",
   "id": "8a70b337",
   "metadata": {},
   "source": [
    "## Desarrollo"
   ]
  },
  {
   "cell_type": "markdown",
   "id": "dea538bf",
   "metadata": {},
   "source": [
    "Para la demostración, se tomará cada lado de la igualdad para llevarla a una expresión tal que la equivalencia sea evidente."
   ]
  },
  {
   "cell_type": "markdown",
   "id": "ae0c98a7",
   "metadata": {},
   "source": [
    "### Lado izquierdo"
   ]
  },
  {
   "cell_type": "markdown",
   "id": "aaa5ce74",
   "metadata": {},
   "source": [
    "Téngase la diagonal de una matriz resultante de un producto matricial, esto es,\n",
    "$$\n",
    "diag(A \\cdot B) = diag(C) = D\n",
    "$$ \n",
    "\n",
    "Por definición de diagonal principal, $C$ debe ser cuadrada. De allí, podemos decir que $C$ es de dimensión $n\\times n$. Además, para que el producto $A\\cdot B$ sea conforme, entonces $A$ es de $n\\times p$ y $B$ es de $p\\times n$. Por lo cual, sabiendo las dimensiones de la matriz que necesitamos para calcular su diagonal y cumpliendo con la conformidad del producto matricial, con seguridad decimos que $C_{n\\times n} = A_{n\\times p} \\cdot B_{p\\times n}$"
   ]
  },
  {
   "cell_type": "markdown",
   "id": "e4bc2614",
   "metadata": {},
   "source": [
    "Ahora, $C_{n\\times n} = [c_{ij}]$, donde $i,j \\in \\{1,\\dots, n\\}$. Por definición de producto matricial, cada elemento está definido por\n",
    "$$\n",
    "c_{ij} = \\sum_{k=1}^p a_{ik} b_{kj}\n",
    "$$"
   ]
  },
  {
   "cell_type": "markdown",
   "id": "099bc172",
   "metadata": {},
   "source": [
    "Si buscamos $diag(C)$, entonces solo estamos interesados en aquellos elementos de $C$ en donde $i=j$. Si definimos $D=diag(C)$, sabemos que $D$ es un vector en $\\R^n$, por lo que $D=[d_i]\\quad \\forall i \\in \\{1,\\dots,n\\}$. Con esto en mente, cada elemento de $D$ es\n",
    "\\begin{equation}\n",
    "d_i = c_{ii} = \\sum_{k=1}^p a_{ik} b_{ki}\n",
    "\\end{equation}"
   ]
  },
  {
   "cell_type": "markdown",
   "id": "76d5f23c",
   "metadata": {},
   "source": [
    "### Lado derecho"
   ]
  },
  {
   "cell_type": "markdown",
   "id": "8724c74c",
   "metadata": {},
   "source": [
    "A partir del razonamiento anterior, sabemos que $A_{n\\times p} = [a_{ij}]$ y $B_{p\\times n} = [b_{ij}]$. Si transponemos $B$, entonces por definición $B^T_{n\\times p} = [b'_{ij}] = [b_{ji}]$."
   ]
  },
  {
   "cell_type": "markdown",
   "id": "9a33d6e9",
   "metadata": {},
   "source": [
    "Definamos el [producto de Hadamard](https://en.wikipedia.org/wiki/Hadamard_product_(matrices)) como la multiplicación elemento a elemento entre dos matrices de iguales dimensiones, en este caso $n\\times p$. Así, $H_{n\\times p}=A\\odot B^T$, donde $H_{n\\times p}=[h_{ij}]$ tal que\n",
    "$$\n",
    "h_{ij​} = a_{ij​}\\cdot b_{ji}\n",
    "$$"
   ]
  },
  {
   "cell_type": "markdown",
   "id": "3633061c",
   "metadata": {},
   "source": [
    "La expresión de la consigna exigía que $\\sum_{cols} A \\odot B^T$. En otras palabras, queremos sumar todos los $p$ elementos en cada i-ésima fila. Con ello obtenemos un vector $V \\in \\R^n$ que se compone de"
   ]
  },
  {
   "cell_type": "markdown",
   "id": "230784e2",
   "metadata": {},
   "source": [
    "\\begin{equation}\n",
    "\\tag{2}\n",
    "v_i = \\sum^p_{j=1} h_{ij} = \\sum^p_{k=1} a_{ik}b'_{ik} = \\sum^p_{k=1} a_{ik}b_{ki}\n",
    "\\end{equation}"
   ]
  },
  {
   "cell_type": "markdown",
   "id": "4554de3e",
   "metadata": {},
   "source": [
    "### Conclusión"
   ]
  },
  {
   "cell_type": "markdown",
   "id": "81dfeb93",
   "metadata": {},
   "source": [
    "Del lado izquierdo, tenemos $D_{i} = [d_i] = diag(A\\cdot B)$; mientras que del derecho, $V_i = [v_i] = \\sum_{cols}  A\\odot B^T$ (donde $i \\in \\{1,\\dots,n\\}$). Entonces, por la ecuación 1 y 2 se sabe que los elementos de $D$ y de $V$ son equivalentes. En términos simbólicos, cada elemento resultante de ambos lados de la expresión está dado por"
   ]
  },
  {
   "cell_type": "markdown",
   "id": "2dbccdd7",
   "metadata": {
    "vscode": {
     "languageId": "bat"
    }
   },
   "source": [
    "$$\n",
    "v_i = d_i = \\sum^p_{k=1} a_{ik}b_{ki} \n",
    "$$"
   ]
  },
  {
   "cell_type": "markdown",
   "id": "50584de0",
   "metadata": {},
   "source": [
    "Con esto, $diag(A \\cdot B) = \\sum_{cols} A \\odot B^T$ porque cada elemento del vector resultante posee los mismos elementos, demostrando lo requerido en la consigna."
   ]
  },
  {
   "cell_type": "markdown",
   "id": "7b6535ab",
   "metadata": {},
   "source": [
    "## Extra: Pequeño Benchmarking"
   ]
  },
  {
   "cell_type": "markdown",
   "id": "b0d14d51",
   "metadata": {},
   "source": [
    "Se realiza un benchmark para mostrar que \"esquivar\" la matriz $n\\times n$ usando matrices de $n\\times p$ representa un aumento en la eficiencia computacional."
   ]
  },
  {
   "cell_type": "code",
   "execution_count": 33,
   "id": "6e89f0ff",
   "metadata": {},
   "outputs": [],
   "source": [
    "import numpy as np\n",
    "from numpy import random as rnd"
   ]
  },
  {
   "cell_type": "code",
   "execution_count": 34,
   "id": "4e4302b7",
   "metadata": {},
   "outputs": [],
   "source": [
    "class Benchmarking:\n",
    "    \"\"\"\n",
    "    Una clase que usamos para realizar el benchmarking.\n",
    "\n",
    "    Al inicializar, genera dos matrices A y B de tamaño nxp y pxn,\n",
    "    respectivamente. Luego, puedo realizar el cálculo de forma ineficiente con\n",
    "    el método `.inefficient()`, o eficientemente con `.efficient()`\n",
    "\n",
    "    Argumentos:\n",
    "    - n: Entero positivo para las filas de A y las columnas de B.\n",
    "    - p: Entero positivo para las columnas de A y las filas de B.\n",
    "    - random_seed (opcional): Si le otorgo un valor, genero A y B con una\n",
    "    semilla predefinida.\n",
    "    \"\"\"\n",
    "    def __init__(self, n, p, random_seed=None):\n",
    "        if random_seed is not None:\n",
    "            rnd.seed(random_seed)\n",
    "        # Genero las matrices A y B con números aleatorios\n",
    "        self.A = rnd.rand(n,p)\n",
    "        self.B = rnd.rand(p,n)\n",
    "\n",
    "    def inefficient(self):\n",
    "        return np.diag(self.A @ self.B) # Lado izquierdo de la igualdad\n",
    "\n",
    "    def efficient(self):\n",
    "        return np.sum(self.A * self.B.T, axis=1) # Lado derecho de la igualdad"
   ]
  },
  {
   "cell_type": "markdown",
   "id": "f185439c",
   "metadata": {},
   "source": [
    "Para inicializar, utilizo números grandes a modo que la diferencia en eficiencia sea evidente: $n = 10.000$ y $p=10$. \n",
    "\n",
    "**Opcional:** Fijamos la semilla en 123 para asegurar reproducibilidad, pero podría omitirse o cambiarse en caso de querer experimentar con otros números."
   ]
  },
  {
   "cell_type": "code",
   "execution_count": 35,
   "id": "ce006ef3",
   "metadata": {},
   "outputs": [],
   "source": [
    "# Inicializo la clase\n",
    "calc = Benchmarking(n=10000, p=10, random_seed=123)"
   ]
  },
  {
   "cell_type": "markdown",
   "id": "22c11042",
   "metadata": {},
   "source": [
    "Hago los cálculos, primero de forma ineficiente y luego de la manera eficiente."
   ]
  },
  {
   "cell_type": "code",
   "execution_count": 36,
   "id": "56f5f727",
   "metadata": {},
   "outputs": [
    {
     "name": "stdout",
     "output_type": "stream",
     "text": [
      "1.07 s ± 45.2 ms per loop (mean ± std. dev. of 7 runs, 1 loop each)\n"
     ]
    }
   ],
   "source": [
    "%%timeit\n",
    "calc.inefficient()"
   ]
  },
  {
   "cell_type": "code",
   "execution_count": 37,
   "id": "8ca877f7",
   "metadata": {},
   "outputs": [
    {
     "name": "stdout",
     "output_type": "stream",
     "text": [
      "650 μs ± 9.41 μs per loop (mean ± std. dev. of 7 runs, 1,000 loops each)\n"
     ]
    }
   ],
   "source": [
    "%%timeit\n",
    "calc.efficient()"
   ]
  },
  {
   "cell_type": "markdown",
   "id": "c1ed122e",
   "metadata": {},
   "source": [
    "En promedio, el método ineficiente tardó ~1 segundo por loop, mientras que el eficiente le tomó tan solo 650 microsegundos computar cada iteración."
   ]
  }
 ],
 "metadata": {
  "kernelspec": {
   "display_name": ".venv",
   "language": "python",
   "name": "python3"
  },
  "language_info": {
   "codemirror_mode": {
    "name": "ipython",
    "version": 3
   },
   "file_extension": ".py",
   "mimetype": "text/x-python",
   "name": "python",
   "nbconvert_exporter": "python",
   "pygments_lexer": "ipython3",
   "version": "3.12.11"
  }
 },
 "nbformat": 4,
 "nbformat_minor": 5
}
